{
 "cells": [
  {
   "cell_type": "code",
   "execution_count": 4,
   "metadata": {},
   "outputs": [
    {
     "data": {
      "text/html": [
       "<script>jQuery(function() {if (jQuery(\"body.notebook_app\").length == 0) { jQuery(\".input_area\").toggle(); jQuery(\".prompt\").toggle();}});</script>"
      ]
     },
     "metadata": {},
     "output_type": "display_data"
    }
   ],
   "source": [
    "# To support both python 2 and python 3\n",
    "from __future__ import division, print_function, unicode_literals\n",
    "%matplotlib inline \n",
    "import os\n",
    "import numpy as np\n",
    "import pandas as pd\n",
    "import matplotlib.pyplot as plt\n",
    "from mpl_toolkits.mplot3d import axes3d\n",
    "import scipy as sp # scientific computation library\n",
    "from sklearn import datasets\n",
    "from sklearn.datasets import load_iris\n",
    "import IPython.core.display as di;  ##导出html时，仅仅显示out和图表\n",
    "di.display_html('<script>jQuery(function() {if (jQuery(\"body.notebook_app\").length == 0) { jQuery(\".input_area\").toggle(); jQuery(\".prompt\").toggle();}});</script>', raw=True)"
   ]
  },
  {
   "cell_type": "code",
   "execution_count": 5,
   "metadata": {},
   "outputs": [],
   "source": [
    "iris = load_iris()"
   ]
  },
  {
   "cell_type": "code",
   "execution_count": 6,
   "metadata": {},
   "outputs": [
    {
     "name": "stdout",
     "output_type": "stream",
     "text": [
      "<class 'sklearn.utils.Bunch'>\n",
      "<class 'numpy.ndarray'>\n",
      "[[5.1 3.5 1.4 0.2]\n",
      " [4.9 3.  1.4 0.2]\n",
      " [4.7 3.2 1.3 0.2]\n",
      " [4.6 3.1 1.5 0.2]\n",
      " [5.  3.6 1.4 0.2]]\n",
      "['DESCR', 'data', 'feature_names', 'target', 'target_names']\n",
      "(150, 4)\n",
      "(150,)\n",
      "[0 0 0 0 0 0 0 0 0 0 0 0 0 0 0 0 0 0 0 0 0 0 0 0 0 0 0 0 0 0 0 0 0 0 0 0 0\n",
      " 0 0 0 0 0 0 0 0 0 0 0 0 0 1 1 1 1 1 1 1 1 1 1 1 1 1 1 1 1 1 1 1 1 1 1 1 1\n",
      " 1 1 1 1 1 1 1 1 1 1 1 1 1 1 1 1 1 1 1 1 1 1 1 1 1 1 2 2 2 2 2 2 2 2 2 2 2\n",
      " 2 2 2 2 2 2 2 2 2 2 2 2 2 2 2 2 2 2 2 2 2 2 2 2 2 2 2 2 2 2 2 2 2 2 2 2 2\n",
      " 2 2]\n"
     ]
    }
   ],
   "source": [
    "# iris data有4个feature, 3类，每一类50个数据（50*4），一共150*4\n",
    "print(type(iris))\n",
    "print(type(iris.data))\n",
    "print(iris.data[:5])\n",
    "print(dir(iris)) \n",
    "print(iris.data.shape)\n",
    "print(iris.target.shape)\n",
    "print(iris.target)"
   ]
  },
  {
   "cell_type": "code",
   "execution_count": 7,
   "metadata": {},
   "outputs": [
    {
     "name": "stdout",
     "output_type": "stream",
     "text": [
      "(50, 4)\n",
      "(50, 4)\n"
     ]
    }
   ],
   "source": [
    "# iris_target0=iris.data[:,iris.target==0]\n",
    "irisdata_target0=iris.data[np.where(iris.target==0)]\n",
    "# print(irisdata_target0)\n",
    "irisdata_target1=iris.data[np.where(iris.target==1)]\n",
    "print(irisdata_target1.shape)\n",
    "irisdata_target2=iris.data[np.where(iris.target==2)]\n",
    "print(irisdata_target2.shape)"
   ]
  },
  {
   "cell_type": "code",
   "execution_count": 8,
   "metadata": {},
   "outputs": [
    {
     "name": "stdout",
     "output_type": "stream",
     "text": [
      "(4, 50)\n",
      "(4,)\n",
      "[5.006 3.418 1.464 0.244]\n",
      "(4,)\n",
      "[5.936 2.77  4.26  1.326]\n",
      "[6.588 2.974 5.552 2.026]\n",
      "[[5.006 3.418 1.464 0.244]\n",
      " [5.936 2.77  4.26  1.326]\n",
      " [6.588 2.974 5.552 2.026]]\n",
      "(4,)\n",
      "[5.84333333 3.054      3.75866667 1.19866667]\n"
     ]
    }
   ],
   "source": [
    "print(irisdata_target0.T.shape)\n",
    "mju1=np.mean(irisdata_target0,axis=0) #50行4列，每列求平均值，得到4个元素（对应于4个feature）的1维数组\n",
    "print(mju1.shape)\n",
    "print(mju1)\n",
    "\n",
    "mju2=np.mean(irisdata_target1,axis=0)\n",
    "print(mju2.shape)\n",
    "print(mju2)\n",
    "\n",
    "mju3=np.mean(irisdata_target2,axis=0)\n",
    "print(mju3)\n",
    "\n",
    "######求类均值的均值\n",
    "mju_array=np.vstack((mju1,mju2,mju3))  #将3个1*4数组按行合并\n",
    "print(mju_array)\n",
    "mju=np.mean(mju_array,axis=0) #3*4均值数组每列求平均值，得到1*4数组，每个类的feature均值的均值\n",
    "print(mju.shape)\n",
    "print(mju)"
   ]
  },
  {
   "cell_type": "code",
   "execution_count": 9,
   "metadata": {},
   "outputs": [
    {
     "name": "stdout",
     "output_type": "stream",
     "text": [
      "[-0.83733333  0.364      -2.29466667 -0.95466667]\n",
      "(4,)\n",
      "(4, 1)\n",
      "[[ 0.70112711 -0.30478933  1.92140089  0.79937422]\n",
      " [-0.30478933  0.132496   -0.83525867 -0.34749867]\n",
      " [ 1.92140089 -0.83525867  5.26549511  2.19064178]\n",
      " [ 0.79937422 -0.34749867  2.19064178  0.91138844]]\n",
      "[[ 0.00858711 -0.02631733  0.04645689  0.01179956]\n",
      " [-0.02631733  0.080656   -0.14237867 -0.03616267]\n",
      " [ 0.04645689 -0.14237867  0.25133511  0.06383644]\n",
      " [ 0.01179956 -0.03616267  0.06383644  0.01621378]]\n",
      "[[ 0.55452844 -0.05957333  1.33543556  0.61608756]\n",
      " [-0.05957333  0.0064     -0.14346667 -0.06618667]\n",
      " [ 1.33543556 -0.14346667  3.21604444  1.48368444]\n",
      " [ 0.61608756 -0.06618667  1.48368444  0.68448044]]\n",
      "[[ 1.26424267 -0.39068     3.30329333  1.42726133]\n",
      " [-0.39068     0.219552   -1.121104   -0.449848  ]\n",
      " [ 3.30329333 -1.121104    8.73287467  3.73816267]\n",
      " [ 1.42726133 -0.449848    3.73816267  1.61208267]]\n"
     ]
    }
   ],
   "source": [
    "# 求散内阵\n",
    "print(mju1-mju) #1*4\n",
    "print((mju1-mju).T.shape)\n",
    "mju1_dis=np.atleast_2d(mju1-mju).T  #4*1\n",
    "print(mju1_dis.shape)\n",
    "\n",
    "Sb0=np.dot(mju1_dis,mju1_dis.T) #4*1矩阵乘以1*4矩阵\n",
    "print(Sb0)\n",
    "\n",
    "mju2_dis=np.atleast_2d(mju2-mju).T\n",
    "Sb1=np.dot(mju2_dis,mju2_dis.T)\n",
    "print(Sb1)\n",
    "\n",
    "mju3_dis=np.atleast_2d(mju3-mju).T\n",
    "Sb2=np.dot(mju3_dis,mju3_dis.T)\n",
    "print(Sb2)\n",
    "\n",
    "Sb=Sb0+Sb1+Sb2\n",
    "print(Sb)"
   ]
  },
  {
   "cell_type": "code",
   "execution_count": 10,
   "metadata": {},
   "outputs": [
    {
     "name": "stdout",
     "output_type": "stream",
     "text": [
      "[[6.0882 4.9146 0.7908 0.5168]\n",
      " [4.9146 7.1138 0.5724 0.5604]\n",
      " [0.7908 0.5724 1.4752 0.2792]\n",
      " [0.5168 0.5604 0.2792 0.5632]]\n",
      "[[13.0552  4.174   8.962   2.7332]\n",
      " [ 4.174   4.825   4.05    2.019 ]\n",
      " [ 8.962   4.05   10.82    3.582 ]\n",
      " [ 2.7332  2.019   3.582   1.9162]]\n",
      "[[19.8128  4.5944 14.8612  2.4056]\n",
      " [ 4.5944  5.0962  3.4976  2.3338]\n",
      " [14.8612  3.4976 14.9248  2.3924]\n",
      " [ 2.4056  2.3338  2.3924  3.6962]]\n",
      "[[38.9562 13.683  24.614   5.6556]\n",
      " [13.683  17.035   8.12    4.9132]\n",
      " [24.614   8.12   27.22    6.2536]\n",
      " [ 5.6556  4.9132  6.2536  6.1756]]\n"
     ]
    }
   ],
   "source": [
    "#求散间阵\n",
    "def sw(x,mju):\n",
    "    x_mju_dis=x-mju\n",
    "    sw=np.dot(x_mju_dis.T,x_mju_dis)\n",
    "    return sw\n",
    "\n",
    "# x_mju0_dis=irisdata_target0-mju1\n",
    "# # print(x_mju0_dis)\n",
    "# SW1=np.dot(x_mju0_dis.T,x_mju0_dis)\n",
    "# print(SW1)\n",
    "SW1=sw(irisdata_target0,mju1)\n",
    "print(SW1)\n",
    "\n",
    "x_mju1_dis=irisdata_target1-mju2  #50*4\n",
    "# print(x_mju1_dis)\n",
    "SW2=np.dot(x_mju1_dis.T,x_mju1_dis) #4*50的矩阵乘以50*4的矩阵\n",
    "print(SW2)\n",
    "\n",
    "x_mju2_dis=irisdata_target2-mju3\n",
    "# print(x_mju2_dis)\n",
    "SW3=np.dot(x_mju2_dis.T,x_mju2_dis)\n",
    "print(SW3)\n",
    "\n",
    "SW=SW1+SW2+SW3\n",
    "print(SW)"
   ]
  },
  {
   "cell_type": "code",
   "execution_count": 21,
   "metadata": {},
   "outputs": [
    {
     "name": "stdout",
     "output_type": "stream",
     "text": [
      "[-0.26024645 -0.14268993  0.07235097  0.9815759 ]\n",
      "[[ 0.43122748  0.77595698 -0.38420452  0.25361489]\n",
      " [ 0.08952333  0.43033621  0.89010784 -0.12043398]\n",
      " [ 0.50890581 -0.40027793  0.24019528  0.72325561]\n",
      " [-0.73962376  0.22908315  0.04900146  0.63093301]]\n",
      "-0.05516253795553248 [-0.11222542 -0.02329813 -0.13244093  0.19248446]\n",
      "Error\n",
      "0.023002398408620436 [-0.11072125 -0.06140464  0.05711563 -0.03268786]\n",
      "Error\n",
      "-0.0011364359835387 [-0.02779757  0.06440017  0.01737836  0.0035453 ]\n",
      "Error\n",
      "0.6193086390468442 [ 0.24894227 -0.11821509  0.70993028  0.61930864]\n",
      "Error\n"
     ]
    }
   ],
   "source": [
    "# Sw的逆乘以Sb\n",
    "SW_inverse=np.linalg.inv(SW)\n",
    "swsb=np.dot(SW_inverse,Sb)\n",
    "w_eighvalue,w=np.linalg.eigh(swsb)\n",
    "print(w_eighvalue)\n",
    "print(w) #对应的特征向量按列存储\n",
    "\n",
    "\n",
    "for i in range(4):\n",
    "    a=np.dot(swsb[i,:], w[:, i])\n",
    "    b=w_eighvalue[i]*w[i]\n",
    "    print(a,b)\n",
    "    if (np.dot(swsb[i,:], w[:, i]) == w_eighvalue[i]*w[i]).all():  #swsb*w==eig*w\n",
    "        print('Right')\n",
    "    else:\n",
    "        print('Error')"
   ]
  },
  {
   "cell_type": "code",
   "execution_count": 12,
   "metadata": {},
   "outputs": [
    {
     "data": {
      "image/png": "[encoded data removed]",
      "text/plain": [
       "<Figure size 432x288 with 1 Axes>"
      ]
     },
     "metadata": {
      "needs_background": "light"
     },
     "output_type": "display_data"
    },
    {
     "data": {
      "image/png": "[encoded data removed]",
      "text/plain": [
       "<Figure size 432x288 with 1 Axes>"
      ]
     },
     "metadata": {
      "needs_background": "light"
     },
     "output_type": "display_data"
    },
    {
     "data": {
      "image/png": "[encoded data removed]",
      "text/plain": [
       "<Figure size 432x288 with 1 Axes>"
      ]
     },
     "metadata": {
      "needs_background": "light"
     },
     "output_type": "display_data"
    },
    {
     "data": {
      "image/png": "[encoded data removed]",
      "text/plain": [
       "<Figure size 432x288 with 1 Axes>"
      ]
     },
     "metadata": {
      "needs_background": "light"
     },
     "output_type": "display_data"
    }
   ],
   "source": [
    "import math\n",
    "def func(w,x):\n",
    "    return np.dot(w,x)\n",
    "for i in range(4):  ###最大特征值是解\n",
    "    y1=func(w[:,i].T,irisdata_target0.T) #1*4的矩阵乘以4*50的矩阵\n",
    "#     print(y1.shape)\n",
    "    # print(y1)\n",
    "    y2=func(w[:,i].T,irisdata_target1.T)\n",
    "    y3=func(w[:,i].T,irisdata_target2.T)\n",
    "    # y11=y1\n",
    "    plt.scatter(y1,np.zeros(y1.size),c='b')\n",
    "    # y21=y2.flatten()\n",
    "    plt.scatter(y2,np.zeros(y2.size),c='r')\n",
    "    plt.scatter(y3,np.zeros(y3.size),c='g')\n",
    "    bins = np.linspace(math.ceil(min(y1)),\n",
    "                       math.floor(max(y2)),\n",
    "                       20) # fixed number of bins\n",
    "    plt.hist(y1,alpha=0.3,label='class 1')\n",
    "    plt.hist(y2,alpha=0.3,label='class 2')\n",
    "    plt.hist(y3,alpha=0.3,label='class 3')\n",
    "    plt.legend(loc='upper right')\n",
    "    plt.show()"
   ]
  },
  {
   "cell_type": "markdown",
   "metadata": {},
   "source": [
    "### 3.2.3 试用其它非特征向量"
   ]
  },
  {
   "cell_type": "code",
   "execution_count": 13,
   "metadata": {},
   "outputs": [
    {
     "data": {
      "image/png": "[encoded data removed]",
      "text/plain": [
       "<Figure size 432x288 with 1 Axes>"
      ]
     },
     "metadata": {
      "needs_background": "light"
     },
     "output_type": "display_data"
    }
   ],
   "source": [
    "    y1=func(2*w[:,3].T,irisdata_target0.T) #1*4的矩阵乘以4*50的矩阵\n",
    "    #print(y1.shape)\n",
    "    # print(y1)\n",
    "    y2=func(2*w[:,3].T,irisdata_target1.T)\n",
    "    y3=func(2*w[:,3].T,irisdata_target2.T)\n",
    "    # y11=y1\n",
    "    plt.scatter(y1,np.zeros(y1.size),c='b')\n",
    "    # y21=y2.flatten()\n",
    "    plt.scatter(y2,np.zeros(y2.size),c='r')\n",
    "    plt.scatter(y3,np.zeros(y3.size),c='g')\n",
    "    bins = np.linspace(math.ceil(min(y1)),\n",
    "                       math.floor(max(y2)),\n",
    "                       20) # fixed number of bins\n",
    "    plt.hist(y1,alpha=0.3,label='class 1')\n",
    "    plt.hist(y2,alpha=0.3,label='class 2')\n",
    "    plt.hist(y3,alpha=0.3,label='class 3')\n",
    "    plt.legend(loc='upper right')\n",
    "    plt.show()"
   ]
  },
  {
   "cell_type": "code",
   "execution_count": 14,
   "metadata": {},
   "outputs": [
    {
     "data": {
      "image/png": "[encoded data removed]",
      "text/plain": [
       "<Figure size 432x288 with 1 Axes>"
      ]
     },
     "metadata": {
      "needs_background": "light"
     },
     "output_type": "display_data"
    }
   ],
   "source": [
    "w_other = np.array([1,3,5,7])\n",
    "Wtheta=w_other+w[:,3]\n",
    "y1=func(Wtheta.T,irisdata_target0.T) #1*4的矩阵乘以4*50的矩阵\n",
    "#print(y1.shape)\n",
    "# print(y1)\n",
    "y2=func(Wtheta.T,irisdata_target1.T)\n",
    "y3=func(Wtheta.T,irisdata_target2.T)\n",
    "# y11=y1\n",
    "plt.scatter(y1,np.zeros(y1.size),c='b')\n",
    "# y21=y2.flatten()\n",
    "plt.scatter(y2,np.zeros(y2.size),c='r')\n",
    "plt.scatter(y3,np.zeros(y3.size),c='g')\n",
    "bins = np.linspace(math.ceil(min(y1)),\n",
    "                       math.floor(max(y2)),\n",
    "                       20) # fixed number of bins\n",
    "plt.hist(y1,alpha=0.3,label='class 1')\n",
    "plt.hist(y2,alpha=0.3,label='class 2')\n",
    "plt.hist(y3,alpha=0.3,label='class 3')\n",
    "plt.legend(loc='upper right')\n",
    "plt.show()"
   ]
  },
  {
   "cell_type": "code",
   "execution_count": 15,
   "metadata": {},
   "outputs": [
    {
     "data": {
      "image/png": "[encoded data removed]",
      "text/plain": [
       "<Figure size 432x288 with 1 Axes>"
      ]
     },
     "metadata": {
      "needs_background": "light"
     },
     "output_type": "display_data"
    }
   ],
   "source": [
    "w_other = np.ones(w[0].shape)\n",
    "Wtheta=w_other+w[:,3]\n",
    "y1=func(Wtheta.T,irisdata_target0.T) #1*4的矩阵乘以4*50的矩阵\n",
    "#print(y1.shape)\n",
    "# print(y1)\n",
    "y2=func(Wtheta.T,irisdata_target1.T)\n",
    "y3=func(Wtheta.T,irisdata_target2.T)\n",
    "# y11=y1\n",
    "plt.scatter(y1,np.zeros(y1.size),c='b')\n",
    "# y21=y2.flatten()\n",
    "plt.scatter(y2,np.zeros(y2.size),c='r')\n",
    "plt.scatter(y3,np.zeros(y3.size),c='g')\n",
    "bins = np.linspace(math.ceil(min(y1)),\n",
    "                       math.floor(max(y2)),\n",
    "                       20) # fixed number of bins\n",
    "plt.hist(y1,alpha=0.3,label='class 1')\n",
    "plt.hist(y2,alpha=0.3,label='class 2')\n",
    "plt.hist(y3,alpha=0.3,label='class 3')\n",
    "plt.legend(loc='upper right')\n",
    "plt.show()"
   ]
  },
  {
   "cell_type": "code",
   "execution_count": 16,
   "metadata": {},
   "outputs": [
    {
     "data": {
      "image/png": "[encoded data removed]",
      "text/plain": [
       "<Figure size 432x288 with 1 Axes>"
      ]
     },
     "metadata": {
      "needs_background": "light"
     },
     "output_type": "display_data"
    }
   ],
   "source": [
    "w_other = 3*np.ones(w[0].shape)\n",
    "Wtheta=w_other+w[:,3]\n",
    "y1=func(Wtheta.T,irisdata_target0.T) #1*4的矩阵乘以4*50的矩阵\n",
    "#print(y1.shape)\n",
    "# print(y1)\n",
    "y2=func(Wtheta.T,irisdata_target1.T)\n",
    "y3=func(Wtheta.T,irisdata_target2.T)\n",
    "# y11=y1\n",
    "plt.scatter(y1,np.zeros(y1.size),c='b')\n",
    "# y21=y2.flatten()\n",
    "plt.scatter(y2,np.zeros(y2.size),c='r')\n",
    "plt.scatter(y3,np.zeros(y3.size),c='g')\n",
    "bins = np.linspace(math.ceil(min(y1)),\n",
    "                       math.floor(max(y2)),\n",
    "                       20) # fixed number of bins\n",
    "plt.hist(y1,alpha=0.3,label='class 1')\n",
    "plt.hist(y2,alpha=0.3,label='class 2')\n",
    "plt.hist(y3,alpha=0.3,label='class 3')\n",
    "plt.legend(loc='upper right')\n",
    "plt.show()"
   ]
  },
  {
   "cell_type": "code",
   "execution_count": 17,
   "metadata": {},
   "outputs": [
    {
     "name": "stdout",
     "output_type": "stream",
     "text": [
      "(150, 2)\n"
     ]
    }
   ],
   "source": [
    "# 使用自带的LDA工具包\n",
    "# from sklearn.lda import LDA\n",
    "from sklearn.discriminant_analysis import LinearDiscriminantAnalysis as LDA\n",
    "lda = LDA()\n",
    "lda = LDA(n_components=2)\n",
    "lda_result = lda.fit_transform(iris.data, iris.target)\n",
    "print(lda_result.shape)"
   ]
  },
  {
   "cell_type": "code",
   "execution_count": 18,
   "metadata": {},
   "outputs": [
    {
     "data": {
      "text/plain": [
       "'0.19.2'"
      ]
     },
     "execution_count": 18,
     "metadata": {},
     "output_type": "execute_result"
    }
   ],
   "source": [
    "import sklearn\n",
    "sklearn.__version__"
   ]
  },
  {
   "cell_type": "code",
   "execution_count": 19,
   "metadata": {},
   "outputs": [
    {
     "data": {
      "text/plain": [
       "Text(0.5,1,'LDA on iris')"
      ]
     },
     "execution_count": 19,
     "metadata": {},
     "output_type": "execute_result"
    },
    {
     "data": {
      "image/png": "[encoded data removed]",
      "text/plain": [
       "<Figure size 432x288 with 1 Axes>"
      ]
     },
     "metadata": {
      "needs_background": "light"
     },
     "output_type": "display_data"
    }
   ],
   "source": [
    "plt.scatter(lda_result[iris.target==0, 0], lda_result[iris.target==0, 1], color='r')\n",
    "plt.scatter(lda_result[iris.target==1, 0], lda_result[iris.target==1, 1], color='g') \n",
    "plt.scatter(lda_result[iris.target==2, 0], lda_result[iris.target==2, 1], color='b') \n",
    "plt.title('LDA on iris')"
   ]
  },
  {
   "cell_type": "code",
   "execution_count": null,
   "metadata": {},
   "outputs": [],
   "source": []
  }
 ],
 "metadata": {
  "kernelspec": {
   "display_name": "Python 3",
   "language": "python",
   "name": "python3"
  },
  "language_info": {
   "codemirror_mode": {
    "name": "ipython",
    "version": 3
   },
   "file_extension": ".py",
   "mimetype": "text/x-python",
   "name": "python",
   "nbconvert_exporter": "python",
   "pygments_lexer": "ipython3",
   "version": "3.7.0"
  }
 },
 "nbformat": 4,
 "nbformat_minor": 2
}
